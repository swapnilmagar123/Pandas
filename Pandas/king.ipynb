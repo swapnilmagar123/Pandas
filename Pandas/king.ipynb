{
 "cells": [
  {
   "cell_type": "code",
   "execution_count": null,
   "metadata": {},
   "outputs": [],
   "source": []
  },
  {
   "cell_type": "code",
   "execution_count": null,
   "metadata": {},
   "outputs": [],
   "source": [
    "import tkinter\n",
    "root  = tkinter.Tk"
   ]
  },
  {
   "cell_type": "code",
   "execution_count": 1,
   "metadata": {},
   "outputs": [
    {
     "ename": "KeyboardInterrupt",
     "evalue": "",
     "output_type": "error",
     "traceback": [
      "\u001b[1;31m---------------------------------------------------------------------------\u001b[0m",
      "\u001b[1;31mKeyboardInterrupt\u001b[0m                         Traceback (most recent call last)",
      "Cell \u001b[1;32mIn[1], line 13\u001b[0m\n\u001b[0;32m     11\u001b[0m update_label\u001b[38;5;241m.\u001b[39mcount \u001b[38;5;241m=\u001b[39m \u001b[38;5;241m1\u001b[39m  \u001b[38;5;66;03m# Initialize the counter\u001b[39;00m\n\u001b[0;32m     12\u001b[0m root\u001b[38;5;241m.\u001b[39mafter(\u001b[38;5;241m1000\u001b[39m, update_label)  \u001b[38;5;66;03m# Start loop\u001b[39;00m\n\u001b[1;32m---> 13\u001b[0m \u001b[43mroot\u001b[49m\u001b[38;5;241;43m.\u001b[39;49m\u001b[43mmainloop\u001b[49m\u001b[43m(\u001b[49m\u001b[43m)\u001b[49m\n",
      "File \u001b[1;32mc:\\Python311\\Lib\\tkinter\\__init__.py:1485\u001b[0m, in \u001b[0;36mMisc.mainloop\u001b[1;34m(self, n)\u001b[0m\n\u001b[0;32m   1483\u001b[0m \u001b[38;5;28;01mdef\u001b[39;00m \u001b[38;5;21mmainloop\u001b[39m(\u001b[38;5;28mself\u001b[39m, n\u001b[38;5;241m=\u001b[39m\u001b[38;5;241m0\u001b[39m):\n\u001b[0;32m   1484\u001b[0m \u001b[38;5;250m    \u001b[39m\u001b[38;5;124;03m\"\"\"Call the mainloop of Tk.\"\"\"\u001b[39;00m\n\u001b[1;32m-> 1485\u001b[0m     \u001b[38;5;28;43mself\u001b[39;49m\u001b[38;5;241;43m.\u001b[39;49m\u001b[43mtk\u001b[49m\u001b[38;5;241;43m.\u001b[39;49m\u001b[43mmainloop\u001b[49m\u001b[43m(\u001b[49m\u001b[43mn\u001b[49m\u001b[43m)\u001b[49m\n",
      "File \u001b[1;32mc:\\Python311\\Lib\\tkinter\\__init__.py:1943\u001b[0m, in \u001b[0;36mCallWrapper.__call__\u001b[1;34m(self, *args)\u001b[0m\n\u001b[0;32m   1940\u001b[0m     \u001b[38;5;28mself\u001b[39m\u001b[38;5;241m.\u001b[39msubst \u001b[38;5;241m=\u001b[39m subst\n\u001b[0;32m   1941\u001b[0m     \u001b[38;5;28mself\u001b[39m\u001b[38;5;241m.\u001b[39mwidget \u001b[38;5;241m=\u001b[39m widget\n\u001b[1;32m-> 1943\u001b[0m \u001b[38;5;28;01mdef\u001b[39;00m \u001b[38;5;21m__call__\u001b[39m(\u001b[38;5;28mself\u001b[39m, \u001b[38;5;241m*\u001b[39margs):\n\u001b[0;32m   1944\u001b[0m \u001b[38;5;250m    \u001b[39m\u001b[38;5;124;03m\"\"\"Apply first function SUBST to arguments, than FUNC.\"\"\"\u001b[39;00m\n\u001b[0;32m   1945\u001b[0m     \u001b[38;5;28;01mtry\u001b[39;00m:\n",
      "\u001b[1;31mKeyboardInterrupt\u001b[0m: "
     ]
    }
   ],
   "source": [
    "import tkinter as tk\n",
    "\n",
    "def update_label():  # Function to update label text\n",
    "    label.config(text=f\"Counter: {update_label.count}\")\n",
    "    update_label.count += 1\n",
    "    root.after(1000, update_label)  # Loop every 1 second\n",
    "\n",
    "root = tk.Tk()\n",
    "label = tk.Label(root, text=\"Counter: 0\")\n",
    "label.pack()\n",
    "update_label.count = 1  # Initialize the counter\n",
    "root.after(1000, update_label)  # Start loop\n",
    "root.mainloop()\n"
   ]
  },
  {
   "cell_type": "code",
   "execution_count": null,
   "metadata": {},
   "outputs": [],
   "source": [
    "import tkinter as tk\n",
    "\n",
    "def show_input():\n",
    "    label.config(text=f\"Entered: {entry.get()}\")\n",
    "\n",
    "root = tk.Tk()\n",
    "entry = tk.Entry(root)\n",
    "entry.pack()\n",
    "label = tk.Label(root, text=\"\")\n",
    "label.pack()\n",
    "tk.Button(root, text=\"Show Input\", command=show_input).pack()\n",
    "root.mainloop()\n"
   ]
  },
  {
   "cell_type": "code",
   "execution_count": null,
   "metadata": {},
   "outputs": [],
   "source": [
    "import tkinter as tk\n",
    "\n",
    "root = tk.Tk()\n",
    "tk.Label(root, text=\"Enter something:\").pack()  # Label\n",
    "entry = tk.Entry(root)  # Entry box\n",
    "entry.pack()\n",
    "label = tk.Label(root, text=\"\")  # Label to display result\n",
    "label.pack()\n",
    "\n",
    "def show_input():\n",
    "    label.config(text=f\"You entered: {entry.get()}\")\n",
    "\n",
    "tk.Button(root, text=\"Show\", command=show_input).pack()  # Button to trigger input display\n",
    "root.mainloop()\n"
   ]
  },
  {
   "cell_type": "code",
   "execution_count": 3,
   "metadata": {},
   "outputs": [
    {
     "ename": "KeyboardInterrupt",
     "evalue": "",
     "output_type": "error",
     "traceback": [
      "\u001b[1;31m---------------------------------------------------------------------------\u001b[0m",
      "\u001b[1;31mKeyboardInterrupt\u001b[0m                         Traceback (most recent call last)",
      "Cell \u001b[1;32mIn[3], line 16\u001b[0m\n\u001b[0;32m     13\u001b[0m     label\u001b[38;5;241m.\u001b[39mconfig(text\u001b[38;5;241m=\u001b[39m\u001b[38;5;124mf\u001b[39m\u001b[38;5;124m\"\u001b[39m\u001b[38;5;124mYou entered: \u001b[39m\u001b[38;5;132;01m{\u001b[39;00mentry\u001b[38;5;241m.\u001b[39mget()\u001b[38;5;132;01m}\u001b[39;00m\u001b[38;5;124m\"\u001b[39m)\n\u001b[0;32m     15\u001b[0m tk\u001b[38;5;241m.\u001b[39mButton(root, text\u001b[38;5;241m=\u001b[39m\u001b[38;5;124m\"\u001b[39m\u001b[38;5;124mShow\u001b[39m\u001b[38;5;124m\"\u001b[39m, command\u001b[38;5;241m=\u001b[39mshow_input, bg\u001b[38;5;241m=\u001b[39m\u001b[38;5;124m'\u001b[39m\u001b[38;5;124myellow\u001b[39m\u001b[38;5;124m'\u001b[39m)\u001b[38;5;241m.\u001b[39mpack()  \u001b[38;5;66;03m# Yellow button\u001b[39;00m\n\u001b[1;32m---> 16\u001b[0m \u001b[43mroot\u001b[49m\u001b[38;5;241;43m.\u001b[39;49m\u001b[43mmainloop\u001b[49m\u001b[43m(\u001b[49m\u001b[43m)\u001b[49m\n",
      "File \u001b[1;32mc:\\Python311\\Lib\\tkinter\\__init__.py:1485\u001b[0m, in \u001b[0;36mMisc.mainloop\u001b[1;34m(self, n)\u001b[0m\n\u001b[0;32m   1483\u001b[0m \u001b[38;5;28;01mdef\u001b[39;00m \u001b[38;5;21mmainloop\u001b[39m(\u001b[38;5;28mself\u001b[39m, n\u001b[38;5;241m=\u001b[39m\u001b[38;5;241m0\u001b[39m):\n\u001b[0;32m   1484\u001b[0m \u001b[38;5;250m    \u001b[39m\u001b[38;5;124;03m\"\"\"Call the mainloop of Tk.\"\"\"\u001b[39;00m\n\u001b[1;32m-> 1485\u001b[0m     \u001b[38;5;28;43mself\u001b[39;49m\u001b[38;5;241;43m.\u001b[39;49m\u001b[43mtk\u001b[49m\u001b[38;5;241;43m.\u001b[39;49m\u001b[43mmainloop\u001b[49m\u001b[43m(\u001b[49m\u001b[43mn\u001b[49m\u001b[43m)\u001b[49m\n",
      "\u001b[1;31mKeyboardInterrupt\u001b[0m: "
     ]
    }
   ],
   "source": [
    "import tkinter as tk\n",
    "\n",
    "root = tk.Tk()\n",
    "root.configure(bg='red')  # Set background color to red\n",
    "\n",
    "tk.Label(root, text=\"Enter something:\", bg='red').pack()  # Label with red background\n",
    "entry = tk.Entry(root)  # Entry box\n",
    "entry.pack()\n",
    "label = tk.Label(root, text=\"\", bg='red')  # Label with red background\n",
    "label.pack()\n",
    "\n",
    "def show_input():\n",
    "    label.config(text=f\"You entered: {entry.get()}\")\n",
    "\n",
    "tk.Button(root, text=\"Show\", command=show_input, bg='yellow').pack()  # Yellow button\n",
    "root.mainloop()\n"
   ]
  },
  {
   "cell_type": "code",
   "execution_count": null,
   "metadata": {},
   "outputs": [],
   "source": [
    "import tkinter as tk\n",
    "\n",
    "def submit():\n",
    "    username = entry_username.get()\n",
    "    password = entry_password.get()\n",
    "    label_message.config(text=f\"Username: {username}\\nPassword: {password}\")\n",
    "\n",
    "def reset():\n",
    "    entry_username.delete(0, tk.END)  # Clear username field\n",
    "    entry_password.delete(0, tk.END)  # Clear password field\n",
    "    label_message.config(text=\"\")  # Clear message label\n",
    "\n",
    "root = tk.Tk()\n",
    "root.title(\"Login Form\")\n",
    "root.geometry(\"300x200\")\n",
    "root.configure(bg='lightblue')\n",
    "\n",
    "# Top frame for the form\n",
    "frame = tk.Frame(root, bg='lightblue')\n",
    "frame.pack(pady=20)\n",
    "\n",
    "# Username label and entry\n",
    "tk.Label(frame, text=\"Username:\", bg='lightblue').grid(row=0, column=0, padx=10, pady=5)\n",
    "entry_username = tk.Entry(frame)\n",
    "entry_username.grid(row=0, column=1, padx=10, pady=5)\n",
    "\n",
    "# Password label and entry\n",
    "tk.Label(frame, text=\"Password:\", bg='lightblue').grid(row=1, column=0, padx=10, pady=5)\n",
    "entry_password = tk.Entry(frame, show=\"*\")  # Hide password input\n",
    "entry_password.grid(row=1, column=1, padx=10, pady=5)\n",
    "\n",
    "# Submit and Reset buttons\n",
    "tk.Button(frame, text=\"Submit\", command=submit, bg='yellow').grid(row=2, column=0, padx=10, pady=10)\n",
    "tk.Button(frame, text=\"Reset\", command=reset, bg='yellow').grid(row=2, column=1, padx=10, pady=10)\n",
    "\n",
    "# Label to display a message after submission\n",
    "label_message = tk.Label(root, text=\"\", bg='lightblue')\n",
    "label_message.pack()\n",
    "\n",
    "root.mainloop()\n"
   ]
  },
  {
   "cell_type": "code",
   "execution_count": null,
   "metadata": {},
   "outputs": [],
   "source": [
    "import tkinter as tk\n",
    "from tkinter import messagebox\n",
    "\n",
    "# Function to display the message box\n",
    "def show_message():\n",
    "    messagebox.showinfo(\"Greeting\", \"Good Morning!\")\n",
    "\n",
    "# Creating the main window\n",
    "root = tk.Tk()\n",
    "root.title(\"Message Box Example\")\n",
    "root.geometry(\"300x200\")\n",
    "\n",
    "# Adding a button to trigger the message box\n",
    "button = tk.Button(root, text=\"Click Me\", command=show_message, bg=\"yellow\", fg=\"black\")\n",
    "button.pack(pady=50)\n",
    "\n",
    "# Running the window's main loop\n",
    "root.mainloop()\n"
   ]
  },
  {
   "cell_type": "code",
   "execution_count": 1,
   "metadata": {},
   "outputs": [],
   "source": [
    "import tkinter as tk\n",
    "from tkinter import messagebox\n",
    "\n",
    "# Function to display the message box\n",
    "def show_message():\n",
    "    messagebox.showinfo(\"Greeting\", \"Good Morning!\")\n",
    "\n",
    "# Creating the main window\n",
    "root = tk.Tk()\n",
    "root.title(\"Message Box Example\")\n",
    "root.geometry(\"300x200\")\n",
    "\n",
    "# Adding a button to trigger the message box\n",
    "button = tk.Button(root, text=\"Click Me\", command=show_message, bg=\"yellow\", fg=\"black\")\n",
    "button.pack(pady=50)\n",
    "\n",
    "# Running the window's main loop\n",
    "root.mainloop()\n"
   ]
  }
 ],
 "metadata": {
  "kernelspec": {
   "display_name": "Python 3",
   "language": "python",
   "name": "python3"
  },
  "language_info": {
   "codemirror_mode": {
    "name": "ipython",
    "version": 3
   },
   "file_extension": ".py",
   "mimetype": "text/x-python",
   "name": "python",
   "nbconvert_exporter": "python",
   "pygments_lexer": "ipython3",
   "version": "3.11.2"
  }
 },
 "nbformat": 4,
 "nbformat_minor": 2
}
